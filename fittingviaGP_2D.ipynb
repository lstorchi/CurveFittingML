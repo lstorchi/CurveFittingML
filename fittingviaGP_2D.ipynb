{
 "cells": [
  {
   "cell_type": "code",
   "execution_count": null,
   "id": "ebca1ad1",
   "metadata": {},
   "outputs": [],
   "source": [
    "import os\n",
    "import math\n",
    "\n",
    "import numpy as np\n",
    "import pandas as pd\n",
    "\n",
    "from matplotlib import pyplot as plt\n",
    "import sklearn.gaussian_process as gp\n",
    "from mpl_toolkits.mplot3d import Axes3D\n",
    "\n",
    "%matplotlib inline\n",
    "%load_ext autoreload\n",
    "%autoreload 2"
   ]
  },
  {
   "cell_type": "code",
   "execution_count": null,
   "id": "e3f7ee2e",
   "metadata": {},
   "outputs": [],
   "source": [
    "import commonmodules as cm\n",
    "\n",
    "def compute_and_plot (df, vib_values , temp_values, testsetvib):\n",
    "\n",
    "  cm.plotfull3dcurve (df, vib_values, temp_values)\n",
    "\n",
    "  train_xy, train_z, test_xy, test_z = cm.get_train_and_test_rmv (temp_values, vib_values, \\\n",
    "    df, testsetvib)\n",
    "\n",
    "  fig = plt.figure()\n",
    "  ax = fig.add_subplot(projection='3d')\n",
    "\n",
    "  for i in range(train_z.shape[0]):\n",
    "    x = train_xy[i,0]\n",
    "    y = train_xy[i,1]\n",
    "    z = train_z[i]\n",
    "    ax.scatter(x, y, z, marker=\"o\", color=\"g\")\n",
    "\n",
    "  for i in range(test_z.shape[0]):\n",
    "    x = test_xy[i,0]\n",
    "    y = test_xy[i,1]\n",
    "    z = test_z[i]\n",
    "    ax.scatter(x, y, z, marker=\"o\", color=\"r\")\n",
    "\n",
    "  ax.set_xlabel('X Label')\n",
    "  ax.set_ylabel('Y Label')\n",
    "  ax.set_zlabel('Z Label')\n",
    "  plt.gcf().set_size_inches(20, 15)\n",
    "\n",
    "  plt.show()\n",
    "\n",
    "  model = cm.build_model_GP_2 (train_xy, train_z)\n",
    "\n",
    "  z_pred, std = model.predict(train_xy, return_std=True)\n",
    "  trainmse = 0.0\n",
    "  cont = 0.0\n",
    "  \n",
    "  for i in range(train_z.shape[0]):\n",
    "    x = train_xy[i,0]\n",
    "    y = train_xy[i,1]\n",
    "    z = train_z[i]\n",
    "    zpred = z_pred[i]\n",
    "    zstd = std[i]\n",
    "    \n",
    "    trainmse += (zpred-z)**2\n",
    "    cont += 1.0\n",
    "\n",
    "    #print(\"Train, %10.7f , %10.7f , %10.7f , %10.7f , %10.7f\"%(z, y, z, zpred, zstd))\n",
    "\n",
    "  trainmse = trainmse/cont\n",
    "\n",
    "  print(\"X , Y , True Value , Predicted Value , STD\")\n",
    "\n",
    "  z_pred, std = model.predict(test_xy, return_std=True)\n",
    "  mse = 0.0\n",
    "  cont = 0.0\n",
    "  for i in range(test_z.shape[0]):\n",
    "    x = test_xy[i,0]\n",
    "    y = test_xy[i,1]\n",
    "    z = test_z[i]\n",
    "    zpred = z_pred[i]\n",
    "    zstd = std[i]\n",
    "    \n",
    "    mse += (zpred-z)**2\n",
    "    cont += 1.0\n",
    "\n",
    "    print(\"%10.7f , %10.7f , %10.7f , %10.7f , %10.7f\"%(z, y, z, zpred, zstd))\n",
    "\n",
    "  mse = mse/cont\n",
    "\n",
    "  print(\"Removed random values  MSE \", mse, \" , TrainMSE ,\", trainmse, flush=True)"
   ]
  },
  {
   "cell_type": "code",
   "execution_count": null,
   "id": "0d5a6bd1",
   "metadata": {},
   "outputs": [],
   "source": [
    "filename = \"dv1.xlsx\"\n",
    "df, vib_values , temp_values = cm.filterinitialset (filename)\n",
    "testsetvib = [34, 36]\n",
    "\n",
    "compute_and_plot (df, vib_values , temp_values, testsetvib)"
   ]
  },
  {
   "cell_type": "code",
   "execution_count": null,
   "id": "fbf44f4b",
   "metadata": {},
   "outputs": [],
   "source": [
    "filename = \"dv2.xlsx\"\n",
    "df, vib_values , temp_values = cm.filterinitialset (filename)\n",
    "testsetvib = [34, 36]\n",
    "\n",
    "compute_and_plot (df, vib_values , temp_values, testsetvib)"
   ]
  },
  {
   "cell_type": "code",
   "execution_count": null,
   "id": "e2052a6a",
   "metadata": {},
   "outputs": [],
   "source": [
    "filename = \"dv3.xlsx\"\n",
    "df, vib_values , temp_values = cm.filterinitialset (filename)\n",
    "testsetvib = [34, 36]\n",
    "\n",
    "compute_and_plot (df, vib_values , temp_values, testsetvib)"
   ]
  }
 ],
 "metadata": {
  "kernelspec": {
   "display_name": "Python 3.9.12 ('base')",
   "language": "python",
   "name": "python3"
  },
  "language_info": {
   "codemirror_mode": {
    "name": "ipython",
    "version": 3
   },
   "file_extension": ".py",
   "mimetype": "text/x-python",
   "name": "python",
   "nbconvert_exporter": "python",
   "pygments_lexer": "ipython3",
   "version": "3.9.13"
  },
  "vscode": {
   "interpreter": {
    "hash": "dd7411e63421f098f1bf3ed11ee17c34ffcc3ddc87944e7f4685f5b8c2980583"
   }
  }
 },
 "nbformat": 4,
 "nbformat_minor": 5
}
