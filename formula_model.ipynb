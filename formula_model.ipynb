{
 "cells": [
  {
   "cell_type": "code",
   "execution_count": null,
   "id": "24a3ca42",
   "metadata": {},
   "outputs": [],
   "source": [
    "import os\n",
    "import sys\n",
    "import numpy as np\n",
    "import pandas as pd\n",
    "import matplotlib.pyplot as plt\n",
    "\n",
    "from sklearn import metrics\n",
    "from pysr import PySRRegressor\n",
    "from sklearn.preprocessing import MinMaxScaler\n",
    "\n",
    "import commonmodules_notf as cm"
   ]
  },
  {
   "cell_type": "code",
   "execution_count": null,
   "id": "01cb4975",
   "metadata": {},
   "outputs": [],
   "source": [
    "filename = \"N2H2_VV_process_one_RC.xlsx\"\n",
    "df = pd.read_excel(filename)\n",
    "\n",
    "x = df[['v', 'w', 'dE', 'T']].values\n",
    "y = df[['RC']].values\n",
    "y = np.log10(y)\n",
    "\n",
    "vset = set(x[:,0])\n",
    "vlist = list(vset)\n",
    "vlist = list(vset)\n"
   ]
  },
  {
   "cell_type": "code",
   "execution_count": null,
   "id": "9efb30d2",
   "metadata": {},
   "outputs": [],
   "source": [
    "for v in vset:\n",
    "    train_x, test_x, train_y, test_y = cm.test_train_split (0, [v], x, y)\n",
    "    \n",
    "    model = PySRRegressor(\n",
    "        maxsize=20,\n",
    "        niterations=40,  # < Increase me for better results\n",
    "        binary_operators=[\"+\", \"*\", \"-\"],\n",
    "        unary_operators=[\n",
    "            \"cos\",\n",
    "            \"exp\",\n",
    "            \"sin\",\n",
    "            \"log\",\n",
    "            \"sqrt\",\n",
    "            \"inv(x) = 1/x\",\n",
    "        ],\n",
    "        extra_sympy_mappings={\"inv\": lambda x: 1 / x},\n",
    "        elementwise_loss=\"loss(prediction, target) = (prediction - target)^2\",\n",
    "    )\n",
    "    model.fit(train_x, train_y)\n",
    "    ypredict = model.predict(test_x)\n",
    "    mse = metrics.mean_squared_error(test_y, ypredict)\n",
    "    print(f\"Mean Squared Error for {v}: {mse}\")"
   ]
  }
 ],
 "metadata": {
  "kernelspec": {
   "display_name": "pysr",
   "language": "python",
   "name": "python3"
  },
  "language_info": {
   "codemirror_mode": {
    "name": "ipython",
    "version": 3
   },
   "file_extension": ".py",
   "mimetype": "text/x-python",
   "name": "python",
   "nbconvert_exporter": "python",
   "pygments_lexer": "ipython3",
   "version": "3.13.5"
  }
 },
 "nbformat": 4,
 "nbformat_minor": 5
}
