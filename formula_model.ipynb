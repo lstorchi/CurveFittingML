{
 "cells": [
  {
   "cell_type": "code",
   "execution_count": null,
   "id": "24a3ca42",
   "metadata": {},
   "outputs": [],
   "source": [
    "import os\n",
    "import sys\n",
    "import numpy as np\n",
    "import pandas as pd\n",
    "import matplotlib.pyplot as plt\n",
    "\n",
    "from sklearn import metrics\n",
    "from pysr import PySRRegressor\n",
    "from sklearn.preprocessing import MinMaxScaler\n",
    "\n",
    "import commonmodules_notf as cm"
   ]
  },
  {
   "cell_type": "code",
   "execution_count": null,
   "id": "01cb4975",
   "metadata": {},
   "outputs": [],
   "source": [
    "filename = \"N2H2_VV_process_one_RC.xlsx\"\n",
    "df = pd.read_excel(filename)\n",
    "\n",
    "x = df[['v', 'w', 'T']].values\n",
    "y = df[['RC']].values\n",
    "y = np.log10(y)\n",
    "\n",
    "vset = set(x[:,0])\n",
    "wset = set(x[:,1])\n",
    "tset = set(x[:,2])\n",
    "vlist = list(vset)\n",
    "vlist = list(vset)\n"
   ]
  },
  {
   "cell_type": "code",
   "execution_count": null,
   "id": "9efb30d2",
   "metadata": {},
   "outputs": [
    {
     "name": "stdout",
     "output_type": "stream",
     "text": [
      "  - outputs/20250618_145425_CQhLGg/hall_of_fame.csv\n",
      "\n",
      "Expressions evaluated per second: 1.070e+05\n",
      "Progress: 621 / 1240 total iterations (50.081%)\n",
      "════════════════════════════════════════════════════════════════════════════════════════════════════\n",
      "───────────────────────────────────────────────────────────────────────────────────────────────────\n",
      "Complexity  Loss       Score      Equation\n",
      "1           1.337e+00  0.000e+00  y = -11.989\n",
      "4           6.548e-01  2.381e-01  y = log(x₂) + -19.887\n",
      "6           6.494e-01  4.175e-03  y = (log(x₂) * 0.91832) + -19.241\n",
      "7           4.027e-01  4.779e-01  y = -19.241 + (log(x₂) - inv(x₁))\n",
      "8           3.129e-01  2.522e-01  y = sqrt((x₂ * 0.0026766) + x₁) + -15.379\n",
      "9           2.499e-01  2.249e-01  y = -19.893 - (log(inv(x₂ * x₁)) - -0.90419)\n",
      "11          1.802e-01  1.635e-01  y = sqrt(sqrt(x₂ * 0.17071) + (x₁ + x₁)) + -17.553\n",
      "13          1.379e-01  1.338e-01  y = sqrt((x₁ + x₁) + (-4.9939 + sqrt(0.14379 * x₂))) + -16...\n",
      "                                      .825\n",
      "15          1.283e-01  3.592e-02  y = sqrt(((x₁ + x₁) + -5.0684) + sqrt((x₂ * 0.11038) - 1.3...\n",
      "                                      538)) + -16.61\n",
      "19          1.187e-01  1.948e-02  y = sqrt(((x₁ + sqrt(x₂ * 0.15334)) + x₁) - exp((inv(x₁) -...\n",
      "                                       -0.82789) * 0.96766)) + -17.086\n",
      "───────────────────────────────────────────────────────────────────────────────────────────────────\n",
      "════════════════════════════════════════════════════════════════════════════════════════════════════\n",
      "Press 'q' and then <enter> to stop execution early.\n",
      "───────────────────────────────────────────────────────────────────────────────────────────────────\n",
      "Complexity  Loss       Score      Equation\n",
      "1           1.337e+00  0.000e+00  y = -11.989\n",
      "4           6.548e-01  2.381e-01  y = log(x₂) + -19.887\n",
      "6           1.808e-01  6.434e-01  y = log(x₂ * x₁) + -21.06\n",
      "8           1.735e-01  2.072e-02  y = log(x₂ * (0.1652 + x₁)) + -21.139\n",
      "10          1.555e-01  5.464e-02  y = log(x₁ * ((x₁ * 32.455) + x₂)) + -21.139\n",
      "12          1.529e-01  8.376e-03  y = log(x₁ * ((x₂ - (x₁ * -30.107)) + -30.107)) - 21.136\n",
      "13          1.299e-01  1.629e-01  y = sqrt(x₁ + (-5.112 + (sqrt(0.10903 * x₂) + x₁))) + -16....\n",
      "                                      582\n",
      "15          1.280e-01  7.671e-03  y = sqrt(((x₁ + -5.0684) + sqrt((0.11038 * x₂) - 1.5179)) ...\n",
      "                                      + x₁) + -16.61\n",
      "16          1.275e-01  3.600e-03  y = -16.61 + sqrt(x₁ + (sqrt((x₂ * exp(-2.1981)) - 1.6277)...\n",
      "                                       + (-5.0684 + x₁)))\n",
      "17          1.188e-01  7.074e-02  y = sqrt((sqrt(x₂ * 0.15302) + x₁) + (x₁ - exp(inv(x₁) - -...\n",
      "                                      0.7726))) + -17.091\n",
      "19          1.187e-01  3.621e-04  y = sqrt(((x₁ + sqrt(x₂ * 0.15334)) + x₁) - exp((inv(x₁) -...\n",
      "                                       -0.82789) * 0.96766)) + -17.086\n",
      "20          1.172e-01  1.296e-02  y = sqrt(((x₁ + x₁) + sqrt(x₂ * 0.1652)) - exp(inv(x₁) - s...\n",
      "                                      in(x₁ * -0.86269))) + -17.204\n",
      "───────────────────────────────────────────────────────────────────────────────────────────────────\n",
      "Mean Squared Error for 17: 0.11381252325211208\n"
     ]
    },
    {
     "name": "stderr",
     "output_type": "stream",
     "text": [
      "[ Info: Final population:\n",
      "[ Info: Results saved to:\n",
      "/home/redo/anaconda3/envs/pysr/lib/python3.13/site-packages/pysr/sr.py:2811: UserWarning: Note: it looks like you are running in Jupyter. The progress bar will be turned off.\n",
      "  warnings.warn(\n"
     ]
    },
    {
     "name": "stdout",
     "output_type": "stream",
     "text": [
      "  - outputs/20250618_145438_OJHYjs/hall_of_fame.csv\n",
      "\n",
      "Expressions evaluated per second: 7.220e+04\n",
      "Progress: 484 / 1240 total iterations (39.032%)\n",
      "════════════════════════════════════════════════════════════════════════════════════════════════════\n",
      "───────────────────────────────────────────────────────────────────────────────────────────────────\n",
      "Complexity  Loss       Score      Equation\n",
      "1           1.329e+00  0.000e+00  y = -11.975\n",
      "4           6.564e-01  2.352e-01  y = log(x₂) + -19.872\n",
      "6           1.808e-01  6.447e-01  y = log(x₂ * x₁) - 21.061\n",
      "8           1.744e-01  1.792e-02  y = log(x₁ * (x₂ + 74.46)) - 21.108\n",
      "10          1.541e-01  6.199e-02  y = log(((x₁ * 33.705) + x₂) * x₁) - 21.143\n",
      "12          1.468e-01  2.431e-02  y = log(x₁ * (x₂ + ((x₁ * x₁) * 4.0838))) - 21.143\n",
      "14          1.186e-01  1.067e-01  y = log((((x₀ * x₁) * x₁) + x₂) * (x₁ + 1.0018)) - 21.516\n",
      "───────────────────────────────────────────────────────────────────────────────────────────────────\n",
      "════════════════════════════════════════════════════════════════════════════════════════════════════\n",
      "Press 'q' and then <enter> to stop execution early.\n",
      "Mean Squared Error for 18: 0.09106466436972611\n"
     ]
    },
    {
     "name": "stderr",
     "output_type": "stream",
     "text": [
      "[ Info: Started!\n",
      "[ Info: Final population:\n",
      "[ Info: Results saved to:\n",
      "/home/redo/anaconda3/envs/pysr/lib/python3.13/site-packages/pysr/sr.py:2811: UserWarning: Note: it looks like you are running in Jupyter. The progress bar will be turned off.\n",
      "  warnings.warn(\n"
     ]
    }
   ],
   "source": [
    "for v in vset:\n",
    "    train_x, test_x, train_y, test_y = cm.test_train_split (0, [v], x, y)\n",
    "    \n",
    "    model = PySRRegressor(\n",
    "        maxsize=20,\n",
    "        niterations=40,  # < Increase me for better results\n",
    "        binary_operators=[\"+\", \"*\", \"-\"],\n",
    "        unary_operators=[\n",
    "            \"cos\",\n",
    "            \"exp\",\n",
    "            \"sin\",\n",
    "            \"log\",\n",
    "            \"sqrt\",\n",
    "            \"inv(x) = 1/x\",\n",
    "        ],\n",
    "        extra_sympy_mappings={\"inv\": lambda x: 1 / x},\n",
    "        elementwise_loss=\"loss(prediction, target) = (prediction - target)^2\",\n",
    "    )\n",
    "    model.fit(train_x, train_y)\n",
    "    ypredict = model.predict(test_x)\n",
    "    mse = metrics.mean_squared_error(test_y, ypredict)\n",
    "    print(f\"Mean Squared Error for {v}: {mse}\")"
   ]
  }
 ],
 "metadata": {
  "kernelspec": {
   "display_name": "pysr",
   "language": "python",
   "name": "python3"
  },
  "language_info": {
   "codemirror_mode": {
    "name": "ipython",
    "version": 3
   },
   "file_extension": ".py",
   "mimetype": "text/x-python",
   "name": "python",
   "nbconvert_exporter": "python",
   "pygments_lexer": "ipython3",
   "version": "3.13.5"
  }
 },
 "nbformat": 4,
 "nbformat_minor": 5
}
