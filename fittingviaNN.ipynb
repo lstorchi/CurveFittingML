{
 "cells": [
  {
   "cell_type": "code",
   "execution_count": 1,
   "metadata": {},
   "outputs": [
    {
     "ename": "ModuleNotFoundError",
     "evalue": "No module named 'tensorflow'",
     "output_type": "error",
     "traceback": [
      "\u001b[0;31m---------------------------------------------------------------------------\u001b[0m",
      "\u001b[0;31mModuleNotFoundError\u001b[0m                       Traceback (most recent call last)",
      "\u001b[1;32mUntitled-1.ipynb Cell 1\u001b[0m in \u001b[0;36m<cell line: 3>\u001b[0;34m()\u001b[0m\n\u001b[1;32m      <a href='vscode-notebook-cell:Untitled-1.ipynb?jupyter-notebook#W0sdW50aXRsZWQ%3D?line=0'>1</a>\u001b[0m \u001b[39mimport\u001b[39;00m \u001b[39mnumpy\u001b[39;00m \u001b[39mas\u001b[39;00m \u001b[39mnp\u001b[39;00m\n\u001b[1;32m      <a href='vscode-notebook-cell:Untitled-1.ipynb?jupyter-notebook#W0sdW50aXRsZWQ%3D?line=1'>2</a>\u001b[0m \u001b[39mimport\u001b[39;00m \u001b[39mmatplotlib\u001b[39;00m\u001b[39m.\u001b[39;00m\u001b[39mpyplot\u001b[39;00m \u001b[39mas\u001b[39;00m \u001b[39mplt\u001b[39;00m\n\u001b[0;32m----> <a href='vscode-notebook-cell:Untitled-1.ipynb?jupyter-notebook#W0sdW50aXRsZWQ%3D?line=2'>3</a>\u001b[0m \u001b[39mfrom\u001b[39;00m \u001b[39mtensorflow\u001b[39;00m \u001b[39mimport\u001b[39;00m keras\n\u001b[1;32m      <a href='vscode-notebook-cell:Untitled-1.ipynb?jupyter-notebook#W0sdW50aXRsZWQ%3D?line=3'>4</a>\u001b[0m \u001b[39mimport\u001b[39;00m \u001b[39mtensorflow\u001b[39;00m \u001b[39mas\u001b[39;00m \u001b[39mtf\u001b[39;00m\n\u001b[1;32m      <a href='vscode-notebook-cell:Untitled-1.ipynb?jupyter-notebook#W0sdW50aXRsZWQ%3D?line=4'>5</a>\u001b[0m \u001b[39mimport\u001b[39;00m \u001b[39mmath\u001b[39;00m\n",
      "\u001b[0;31mModuleNotFoundError\u001b[0m: No module named 'tensorflow'"
     ]
    }
   ],
   "source": [
    "import numpy as np\n",
    "import matplotlib.pyplot as plt\n",
    "from tensorflow import keras\n",
    "import tensorflow as tf\n",
    "import math"
   ]
  },
  {
   "cell_type": "code",
   "execution_count": null,
   "metadata": {},
   "outputs": [],
   "source": [
    "import pandas as pd\n",
    "\n",
    "##############################################################################\n",
    "\n",
    "def filterinitialset (filename, headername = \"vibrational level v\\Temperature(K)\",  \\\n",
    "    factor = 1.0, normalize = False):\n",
    "\n",
    "    dfin = pd.read_excel(filename)\n",
    "\n",
    "    #print(dfin)\n",
    "    \n",
    "    dfdict = {}\n",
    "    \n",
    "    tempvalues = list(dfin.columns[1:])\n",
    "    vibvalues = list(dfin[headername].values)\n",
    "\n",
    "    min = float(\"inf\")\n",
    "    max = float(\"-inf\")\n",
    "    for c in dfin.columns:\n",
    "        dfdict[c] = []\n",
    "        if c == headername:\n",
    "            dfdict[c] = list(dfin[c].values)\n",
    "        else:\n",
    "            for v in dfin[c].values:\n",
    "                val = factor*v\n",
    "                if val > max:\n",
    "                    max = val\n",
    "                if val < min:\n",
    "                    min = val\n",
    "\n",
    "    for c in dfin.columns:\n",
    "        if c != headername:\n",
    "            for v in dfin[c].values:\n",
    "                val = factor*v\n",
    "                valp = (val - min) / (max - min)\n",
    "                if normalize:\n",
    "                    dfdict[c].append(valp)\n",
    "                else:\n",
    "                    dfdict[c].append(val)\n",
    "\n",
    "    df = pd.DataFrame.from_dict(dfdict)\n",
    "\n",
    "    return df, vibvalues, tempvalues\n",
    "\n",
    "##############################################################################\n",
    "\n",
    "x_data = np.linspace(-10, 10, num=1000)\n",
    "y_data = 0.1*x_data*np.cos(x_data) + 0.1*np.random.normal(size=1000)\n",
    "print('Data created successfully')\n",
    "\n",
    "filename = \"N2N2_dataset.xls\"\n",
    "df, vib_values , temp_values = filterinitialset (filename)\n",
    "local_temp_values = temp_values\n",
    "\n",
    "thefirst = True\n",
    "\n",
    "maxt = max(local_temp_values)\n",
    "mint = min(local_temp_values)\n",
    "\n",
    "for vibidx in range(len(vib_values)-1, len(vib_values)):\n",
    "    train_x = []\n",
    "    train_y = []\n",
    "\n",
    "    maxy = float(\"-inf\")\n",
    "    miny = float(\"+inf\")\n",
    "\n",
    "    for idx, t in enumerate(local_temp_values):\n",
    "        yval = df[t].values[vibidx]\n",
    "\n",
    "        if yval < miny:\n",
    "            miny = yval\n",
    "        elif yval > maxy:\n",
    "            maxy = yval\n",
    "\n",
    "    for idx, t in enumerate(local_temp_values):\n",
    "        tval = (t - mint)/(maxt - mint)\n",
    "        train_x.append(tval)\n",
    "    \n",
    "        yval = df[t].values[vibidx]\n",
    "        train_y.append((yval - miny)/(maxy - miny))\n",
    "\n",
    "    if thefirst:\n",
    "        val_x = train_x.copy()\n",
    "        val_y = train_y.copy()\n",
    "        thefirst = False\n",
    "\n",
    "    minx = min(train_x)\n",
    "    maxx = max(train_x)\n",
    "\n",
    "    train_x = np.asarray(train_x).reshape(-1, 1)\n",
    "    train_y = np.asarray(train_y)"
   ]
  },
  {
   "cell_type": "code",
   "execution_count": null,
   "metadata": {},
   "outputs": [],
   "source": [
    "model = keras.Sequential()\n",
    "model.add(keras.layers.Dense(units = 1, activation = 'linear', input_shape=[1]))\n",
    "model.add(keras.layers.Dense(units = 64, activation = 'relu'))\n",
    "model.add(keras.layers.Dense(units = 64, activation = 'relu'))\n",
    "model.add(keras.layers.Dense(units = 64, activation = 'relu'))\n",
    "model.add(keras.layers.Dense(units = 64, activation = 'relu'))\n",
    "model.add(keras.layers.Dense(units = 1, activation = 'linear'))\n",
    "model.compile(loss='mse', optimizer=\"adam\")\n",
    "model.summary()"
   ]
  },
  {
   "cell_type": "code",
   "execution_count": null,
   "metadata": {},
   "outputs": [],
   "source": [
    "model.fit( x_data, y_data, epochs=100, verbose=1)"
   ]
  },
  {
   "cell_type": "code",
   "execution_count": null,
   "metadata": {},
   "outputs": [],
   "source": [
    "# Compute the output \n",
    "y_predicted = model.predict(x_data)\n",
    "\n",
    "# Display the result\n",
    "plt.scatter(x_data[::1], y_data[::1])\n",
    "plt.plot(x_data, y_predicted, 'r', linewidth=4)\n",
    "plt.grid()\n",
    "plt.show()"
   ]
  }
 ],
 "metadata": {
  "kernelspec": {
   "display_name": "Python 3.9.12 ('base')",
   "language": "python",
   "name": "python3"
  },
  "language_info": {
   "codemirror_mode": {
    "name": "ipython",
    "version": 3
   },
   "file_extension": ".py",
   "mimetype": "text/x-python",
   "name": "python",
   "nbconvert_exporter": "python",
   "pygments_lexer": "ipython3",
   "version": "3.9.12"
  },
  "orig_nbformat": 4,
  "vscode": {
   "interpreter": {
    "hash": "dd7411e63421f098f1bf3ed11ee17c34ffcc3ddc87944e7f4685f5b8c2980583"
   }
  }
 },
 "nbformat": 4,
 "nbformat_minor": 2
}
