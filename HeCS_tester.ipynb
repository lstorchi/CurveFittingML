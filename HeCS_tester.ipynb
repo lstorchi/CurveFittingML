{
 "cells": [
  {
   "cell_type": "code",
   "execution_count": null,
   "id": "ebca1ad1",
   "metadata": {},
   "outputs": [],
   "source": [
    "import os\n",
    "import math\n",
    "\n",
    "import numpy as np\n",
    "import pandas as pd\n",
    "\n",
    "from matplotlib import pyplot as plt\n",
    "from mpl_toolkits.mplot3d import Axes3D\n",
    "\n",
    "%matplotlib inline\n",
    "%load_ext autoreload\n",
    "%autoreload 2"
   ]
  },
  {
   "cell_type": "code",
   "execution_count": null,
   "id": "c987cb5f",
   "metadata": {},
   "outputs": [],
   "source": [
    "\n",
    "# dv1 best is 5\n",
    "testsetrealfilename = \"testset.xlsx\"\n",
    "filename = \"dv3/test_predictions_model_6.txt\"\n",
    "dftest = pd.read_excel(testsetrealfilename, sheet_name=\"dv3\")\n",
    "dfpredict = pd.read_csv(filename)\n"
   ]
  },
  {
   "cell_type": "code",
   "execution_count": null,
   "id": "1704a1c0",
   "metadata": {},
   "outputs": [],
   "source": [
    "X_pred = dfpredict[['v', 'T']].values\n",
    "# reduce to nearer integer\n",
    "X_pred = np.round(X_pred).astype(int)\n",
    "y_pred = dfpredict['RC'].values\n",
    "X_test = dftest[['vf', 'T']].values\n",
    "y_test = dftest['dv3'].values\n",
    "y_test = np.log(y_test)\n",
    "\n",
    "y_pred_rmse  = []\n",
    "y_test_rmse = []\n",
    "for v, T in X_test:\n",
    "    #print(f\"v={v}, T={T}\")\n",
    "    idx_test = np.where((X_test[:, 0] == v) & (X_test[:, 1] == T))\n",
    "    # find the index of the same values in X_pred\n",
    "    idx_pred = np.where((X_pred[:, 0] == v) & (X_pred[:, 1] == T))\n",
    "    if idx_pred[0].size > 0:\n",
    "        #print(f\"Found matching index in X_pred: {idx[0][0]}\")\n",
    "        #print(y_pred[idx_pred[0][0]], y_test[idx_test[0][0]])\n",
    "        y_pred_rmse.append(y_pred[idx_pred[0][0]])\n",
    "        y_test_rmse.append(y_test[idx_test[0][0]])\n",
    "    else:\n",
    "        print(\"No matching index found in X_pred\")\n",
    "\n",
    "rmse = np.sqrt(np.mean((np.array(y_pred_rmse) - np.array(y_test_rmse)) ** 2))\n",
    "print(\"RMSE: \", rmse   )"
   ]
  }
 ],
 "metadata": {
  "kernelspec": {
   "display_name": "base",
   "language": "python",
   "name": "python3"
  },
  "language_info": {
   "codemirror_mode": {
    "name": "ipython",
    "version": 3
   },
   "file_extension": ".py",
   "mimetype": "text/x-python",
   "name": "python",
   "nbconvert_exporter": "python",
   "pygments_lexer": "ipython3",
   "version": "3.9.12"
  }
 },
 "nbformat": 4,
 "nbformat_minor": 5
}
