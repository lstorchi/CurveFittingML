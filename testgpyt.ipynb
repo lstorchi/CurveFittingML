{
 "cells": [
  {
   "cell_type": "code",
   "execution_count": 27,
   "id": "ebca1ad1",
   "metadata": {},
   "outputs": [
    {
     "name": "stdout",
     "output_type": "stream",
     "text": [
      "The autoreload extension is already loaded. To reload it, use:\n",
      "  %reload_ext autoreload\n"
     ]
    }
   ],
   "source": [
    "import math\n",
    "import torch\n",
    "import gpytorch\n",
    "from matplotlib import pyplot as plt\n",
    "\n",
    "%matplotlib inline\n",
    "%load_ext autoreload\n",
    "%autoreload 2"
   ]
  },
  {
   "cell_type": "code",
   "execution_count": 28,
   "id": "c987cb5f",
   "metadata": {},
   "outputs": [],
   "source": [
    "# Training data is 100 points in [0,1] inclusive regularly spaced\n",
    "train_x = torch.linspace(0, 1, 100)\n",
    "# True function is sin(2*pi*x) with Gaussian noise\n",
    "#train_y = torch.sin(train_x * (2 * math.pi)) + torch.randn(train_x.size()) * math.sqrt(0.04)\n",
    "# no noise\n",
    "train_y = torch.sin(train_x * (2 * math.pi)) * math.sqrt(0.04)\n",
    "\n"
   ]
  },
  {
   "cell_type": "code",
   "execution_count": 29,
   "id": "aad80cd4",
   "metadata": {},
   "outputs": [
    {
     "data": {
      "text/plain": [
       "[<matplotlib.lines.Line2D at 0x7f2e8c0a3250>]"
      ]
     },
     "execution_count": 29,
     "metadata": {},
     "output_type": "execute_result"
    },
    {
     "data": {
      "image/png": "[encoded data removed]",
      "text/plain": [
       "<Figure size 432x288 with 1 Axes>"
      ]
     },
     "metadata": {
      "needs_background": "light"
     },
     "output_type": "display_data"
    }
   ],
   "source": [
    "plt.plot(train_x, train_y)"
   ]
  },
  {
   "cell_type": "code",
   "execution_count": 30,
   "id": "11ac718d",
   "metadata": {},
   "outputs": [],
   "source": [
    "# We will use the simplest form of GP model, exact inference\n",
    "class ExactGPModel(gpytorch.models.ExactGP):\n",
    "    def __init__(self, train_x, train_y, likelihood):\n",
    "        super(ExactGPModel, self).__init__(train_x, train_y, likelihood)\n",
    "        self.mean_module = gpytorch.means.ConstantMean()\n",
    "        self.covar_module = gpytorch.kernels.ScaleKernel(gpytorch.kernels.RBFKernel())\n",
    "\n",
    "    def forward(self, x):\n",
    "        mean_x = self.mean_module(x)\n",
    "        covar_x = self.covar_module(x)\n",
    "        return gpytorch.distributions.MultivariateNormal(mean_x, covar_x)\n",
    "\n",
    "# initialize likelihood and model\n",
    "likelihood = gpytorch.likelihoods.GaussianLikelihood()\n",
    "model = ExactGPModel(train_x, train_y, likelihood)"
   ]
  },
  {
   "cell_type": "code",
   "execution_count": 31,
   "id": "c5526ddc",
   "metadata": {},
   "outputs": [
    {
     "name": "stdout",
     "output_type": "stream",
     "text": [
      "Iter 1/50 - Loss: 0.780   lengthscale: 0.693   noise: 0.693\n",
      "Iter 2/50 - Loss: 0.743   lengthscale: 0.744   noise: 0.644\n",
      "Iter 3/50 - Loss: 0.706   lengthscale: 0.798   noise: 0.598\n",
      "Iter 4/50 - Loss: 0.668   lengthscale: 0.854   noise: 0.554\n",
      "Iter 5/50 - Loss: 0.629   lengthscale: 0.911   noise: 0.513\n",
      "Iter 6/50 - Loss: 0.590   lengthscale: 0.970   noise: 0.474\n",
      "Iter 7/50 - Loss: 0.550   lengthscale: 1.030   noise: 0.437\n",
      "Iter 8/50 - Loss: 0.509   lengthscale: 1.090   noise: 0.403\n",
      "Iter 9/50 - Loss: 0.468   lengthscale: 1.151   noise: 0.370\n",
      "Iter 10/50 - Loss: 0.426   lengthscale: 1.211   noise: 0.340\n",
      "Iter 11/50 - Loss: 0.384   lengthscale: 1.270   noise: 0.312\n",
      "Iter 12/50 - Loss: 0.342   lengthscale: 1.327   noise: 0.286\n",
      "Iter 13/50 - Loss: 0.299   lengthscale: 1.381   noise: 0.261\n",
      "Iter 14/50 - Loss: 0.256   lengthscale: 1.431   noise: 0.239\n",
      "Iter 15/50 - Loss: 0.212   lengthscale: 1.477   noise: 0.218\n",
      "Iter 16/50 - Loss: 0.169   lengthscale: 1.518   noise: 0.199\n",
      "Iter 17/50 - Loss: 0.125   lengthscale: 1.552   noise: 0.181\n",
      "Iter 18/50 - Loss: 0.080   lengthscale: 1.579   noise: 0.165\n",
      "Iter 19/50 - Loss: 0.036   lengthscale: 1.598   noise: 0.150\n",
      "Iter 20/50 - Loss: -0.008   lengthscale: 1.608   noise: 0.136\n",
      "Iter 21/50 - Loss: -0.052   lengthscale: 1.608   noise: 0.124\n",
      "Iter 22/50 - Loss: -0.097   lengthscale: 1.599   noise: 0.112\n",
      "Iter 23/50 - Loss: -0.141   lengthscale: 1.580   noise: 0.102\n",
      "Iter 24/50 - Loss: -0.185   lengthscale: 1.552   noise: 0.092\n",
      "Iter 25/50 - Loss: -0.229   lengthscale: 1.516   noise: 0.084\n",
      "Iter 26/50 - Loss: -0.273   lengthscale: 1.472   noise: 0.076\n",
      "Iter 27/50 - Loss: -0.317   lengthscale: 1.422   noise: 0.069\n",
      "Iter 28/50 - Loss: -0.360   lengthscale: 1.367   noise: 0.062\n",
      "Iter 29/50 - Loss: -0.403   lengthscale: 1.308   noise: 0.056\n",
      "Iter 30/50 - Loss: -0.445   lengthscale: 1.245   noise: 0.051\n",
      "Iter 31/50 - Loss: -0.486   lengthscale: 1.179   noise: 0.046\n",
      "Iter 32/50 - Loss: -0.527   lengthscale: 1.112   noise: 0.042\n",
      "Iter 33/50 - Loss: -0.567   lengthscale: 1.044   noise: 0.038\n",
      "Iter 34/50 - Loss: -0.607   lengthscale: 0.974   noise: 0.034\n",
      "Iter 35/50 - Loss: -0.646   lengthscale: 0.904   noise: 0.031\n",
      "Iter 36/50 - Loss: -0.686   lengthscale: 0.834   noise: 0.028\n",
      "Iter 37/50 - Loss: -0.726   lengthscale: 0.765   noise: 0.026\n",
      "Iter 38/50 - Loss: -0.770   lengthscale: 0.701   noise: 0.023\n",
      "Iter 39/50 - Loss: -0.818   lengthscale: 0.641   noise: 0.021\n",
      "Iter 40/50 - Loss: -0.874   lengthscale: 0.585   noise: 0.019\n",
      "Iter 41/50 - Loss: -0.939   lengthscale: 0.532   noise: 0.017\n",
      "Iter 42/50 - Loss: -1.008   lengthscale: 0.482   noise: 0.016\n",
      "Iter 43/50 - Loss: -1.075   lengthscale: 0.433   noise: 0.014\n",
      "Iter 44/50 - Loss: -1.134   lengthscale: 0.387   noise: 0.013\n",
      "Iter 45/50 - Loss: -1.185   lengthscale: 0.347   noise: 0.012\n",
      "Iter 46/50 - Loss: -1.230   lengthscale: 0.313   noise: 0.011\n",
      "Iter 47/50 - Loss: -1.274   lengthscale: 0.286   noise: 0.010\n",
      "Iter 48/50 - Loss: -1.317   lengthscale: 0.266   noise: 0.009\n",
      "Iter 49/50 - Loss: -1.362   lengthscale: 0.251   noise: 0.008\n",
      "Iter 50/50 - Loss: -1.408   lengthscale: 0.240   noise: 0.007\n"
     ]
    }
   ],
   "source": [
    "import os\n",
    "smoke_test = ('CI' in os.environ)\n",
    "training_iter = 2 if smoke_test else 50\n",
    "\n",
    "\n",
    "# Find optimal model hyperparameters\n",
    "model.train()\n",
    "likelihood.train()\n",
    "\n",
    "# Use the adam optimizer\n",
    "optimizer = torch.optim.Adam(model.parameters(), lr=0.1)  # Includes GaussianLikelihood parameters\n",
    "\n",
    "# \"Loss\" for GPs - the marginal log likelihood\n",
    "mll = gpytorch.mlls.ExactMarginalLogLikelihood(likelihood, model)\n",
    "\n",
    "for i in range(training_iter):\n",
    "    # Zero gradients from previous iteration\n",
    "    optimizer.zero_grad()\n",
    "    # Output from model\n",
    "    output = model(train_x)\n",
    "    # Calc loss and backprop gradients\n",
    "    loss = -mll(output, train_y)\n",
    "    loss.backward()\n",
    "    print('Iter %d/%d - Loss: %.3f   lengthscale: %.3f   noise: %.3f' % (\n",
    "        i + 1, training_iter, loss.item(),\n",
    "        model.covar_module.base_kernel.lengthscale.item(),\n",
    "        model.likelihood.noise.item()\n",
    "    ))\n",
    "    optimizer.step()"
   ]
  },
  {
   "cell_type": "code",
   "execution_count": 32,
   "id": "4445c043",
   "metadata": {},
   "outputs": [],
   "source": [
    "# Get into evaluation (predictive posterior) mode\n",
    "model.eval()\n",
    "likelihood.eval()\n",
    "\n",
    "# Test points are regularly spaced along [0,1]\n",
    "# Make predictions by feeding model through likelihood\n",
    "with torch.no_grad(), gpytorch.settings.fast_pred_var():\n",
    "    test_x = torch.linspace(0, 1, 51)\n",
    "    observed_pred = likelihood(model(test_x))\n",
    "\n"
   ]
  },
  {
   "cell_type": "code",
   "execution_count": 33,
   "id": "2236a91f",
   "metadata": {},
   "outputs": [
    {
     "data": {
      "image/png": "[encoded data removed]",
      "text/plain": [
       "<Figure size 288x216 with 1 Axes>"
      ]
     },
     "metadata": {
      "needs_background": "light"
     },
     "output_type": "display_data"
    }
   ],
   "source": [
    "with torch.no_grad():\n",
    "    # Initialize plot\n",
    "    f, ax = plt.subplots(1, 1, figsize=(4, 3))\n",
    "\n",
    "    # Get upper and lower confidence bounds\n",
    "    lower, upper = observed_pred.confidence_region()\n",
    "    # Plot training data as black stars\n",
    "    ax.plot(train_x.numpy(), train_y.numpy(), 'k*')\n",
    "    # Plot predictive means as blue line\n",
    "    ax.plot(test_x.numpy(), observed_pred.mean.numpy(), 'b')\n",
    "    # Shade between the lower and upper confidence bounds\n",
    "    ax.fill_between(test_x.numpy(), lower.numpy(), upper.numpy(), alpha=0.5)\n",
    "     # ax.set_ylim([-3, 3])\n",
    "    ax.legend(['Observed Data', 'Mean', 'Confidence'])\n",
    "\n"
   ]
  }
 ],
 "metadata": {
  "kernelspec": {
   "display_name": "Python 3.7.13 ('base')",
   "language": "python",
   "name": "python3"
  },
  "language_info": {
   "codemirror_mode": {
    "name": "ipython",
    "version": 3
   },
   "file_extension": ".py",
   "mimetype": "text/x-python",
   "name": "python",
   "nbconvert_exporter": "python",
   "pygments_lexer": "ipython3",
   "version": "3.7.13"
  },
  "vscode": {
   "interpreter": {
    "hash": "dd7411e63421f098f1bf3ed11ee17c34ffcc3ddc87944e7f4685f5b8c2980583"
   }
  }
 },
 "nbformat": 4,
 "nbformat_minor": 5
}
