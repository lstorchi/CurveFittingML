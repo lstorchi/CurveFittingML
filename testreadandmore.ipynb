{
 "cells": [
  {
   "cell_type": "code",
   "execution_count": null,
   "metadata": {},
   "outputs": [],
   "source": [
    "import numpy as np\n",
    "import pandas as pd\n",
    "import time\n",
    "\n",
    "from tensorflow import keras\n",
    "import tensorflow as tf\n",
    "\n",
    "from sklearn import metrics\n",
    "from sklearn.preprocessing import MinMaxScaler\n",
    "\n",
    "import commonmodules as cm\n",
    "from generalutil import *\n",
    "import sys\n",
    "\n",
    "%matplotlib inline\n",
    "import numpy as np\n",
    "import matplotlib.pyplot as plt"
   ]
  },
  {
   "cell_type": "code",
   "execution_count": null,
   "metadata": {},
   "outputs": [],
   "source": [
    "uT_filename = \"N2H2_2D_VT_process_using_T.xlsx\"\n",
    "uT_xkey, uT_ykey, uT_x_s, uT_y_s, uT_scalerx, uT_scalery, \\\n",
    "    uT_x1map_toreal, uT_f1set, uT_f1list = \\\n",
    "    read_excel_file_and_norm_tfile (uT_filename)\n",
    "uT_xk = uT_xkey[0]\n",
    "uT_x1 = list(uT_f1set[uT_xk])[0]\n",
    "uT_yk = uT_xk.split(\"_\")[0]\n",
    "uT_f1 = uT_xk.split(\"_\")[1]\n",
    "uT_f2 = uT_xk.split(\"_\")[2]\n",
    "uT_removedx = uT_x1map_toreal[uT_xk][uT_x1]\n",
    "\n",
    "print(uT_x1, uT_removedx, uT_f1, uT_f2, uT_yk)\n",
    "\n",
    "nT_filename = \"N2H2_2D_VT_process.xlsx\"\n",
    "nT_xkey, nT_ykey, nT_x_s, nT_y_s, nT_scalerx, nT_scalery, \\\n",
    "    nT_x1map_toreal, nT_f1set, nT_f1list = \\\n",
    "    read_excel_file_and_norm (nT_filename)\n",
    "nT_xk = nT_xkey[0]\n",
    "nT_x1 = list(nT_f1set[nT_xk])[0]\n",
    "nT_yk = nT_xk.split(\"_\")[0]\n",
    "nT_f1 = nT_xk.split(\"_\")[1]\n",
    "nT_f2 = nT_xk.split(\"_\")[2]\n",
    "nT_removedx = nT_x1map_toreal[nT_xk][nT_x1]\n",
    "\n",
    "print(nT_x1, nT_removedx, nT_f1, nT_f2, nT_yk)\n"
   ]
  },
  {
   "cell_type": "code",
   "execution_count": null,
   "metadata": {},
   "outputs": [],
   "source": [
    "uT_train_x, uT_test_x, uT_train_y, uT_test_y = cm.test_train_split (0, [uT_x1], \\\n",
    "                                                        uT_x_s[uT_xk], uT_y_s[uT_yk])\n",
    "print(uT_train_x.shape, uT_test_x.shape, uT_train_y.shape, uT_test_y.shape)\n",
    "print(uT_x_s[uT_xk].shape, uT_y_s[uT_yk].shape)\n",
    "\n",
    "nT_train_x, nT_test_x, nT_train_y, nT_test_y = cm.test_train_split (0, [nT_x1], \\\n",
    "                                                        nT_x_s[nT_xk], nT_y_s[nT_yk])\n",
    "print(nT_train_x.shape, nT_test_x.shape, nT_train_y.shape, nT_test_y.shape)\n",
    "print(nT_x_s[nT_xk].shape, nT_y_s[nT_yk].shape)"
   ]
  },
  {
   "cell_type": "code",
   "execution_count": null,
   "metadata": {},
   "outputs": [],
   "source": [
    "plt.rcParams[\"figure.figsize\"] = (18, 10)\n",
    "ax = plt.axes(projection='3d')\n",
    "ax.scatter3D(nT_test_x[:,0], nT_test_x[:,1], nT_test_y, c=nT_test_y, cmap='Greens')\n",
    "ax.scatter3D(nT_train_x[:,0], nT_train_x[:,1], nT_train_y, c=nT_train_y, cmap='Reds')\n",
    "plt.show()\n",
    "\n",
    "plt.rcParams[\"figure.figsize\"] = (18, 10)\n",
    "ax = plt.axes(projection='3d')\n",
    "ax.scatter3D(uT_test_x[:,0], uT_test_x[:,1], uT_test_y, c=uT_test_y, cmap='Greens')\n",
    "ax.scatter3D(uT_train_x[:,0], uT_train_x[:,1], uT_train_y, c=uT_train_y, cmap='Reds')\n",
    "plt.show()"
   ]
  },
  {
   "cell_type": "code",
   "execution_count": null,
   "metadata": {},
   "outputs": [],
   "source": [
    "def get_cmap(n, name='hsv'):\n",
    "    '''Returns a function that maps each index in 0, 1, ..., n-1 to a distinct \n",
    "    RGB color; the keyword argument name must be a standard mpl colormap name.'''\n",
    "    return plt.cm.get_cmap(name, n)"
   ]
  },
  {
   "cell_type": "code",
   "execution_count": null,
   "metadata": {},
   "outputs": [],
   "source": [
    "uT_models = []\n",
    "uT_model = cm.build_model_GP_1 (uT_train_x, uT_train_y)\n",
    "uT_models.append(uT_model)\n",
    "for nu in [1.5, 2.0, 2.5, 3.0]:\n",
    "    uT_model = cm.build_model_GP_2 (uT_train_x, uT_train_y, nuval = nu)\n",
    "    uT_models.append(uT_model)\n",
    "    uT_model = cm.build_model_GP_3 (uT_train_x, uT_train_y, nuval = nu)\n",
    "    uT_models.append(uT_model)"
   ]
  },
  {
   "cell_type": "code",
   "execution_count": null,
   "metadata": {},
   "outputs": [],
   "source": [
    "uT_test_x_sp = uT_scalerx[uT_xk].inverse_transform(uT_test_x)\n",
    "uT_test_y_sb = uT_scalery[uT_yk].inverse_transform(uT_test_y)\n",
    "plt.rcParams[\"figure.figsize\"] = (18, 10)\n",
    "ax = plt.axes(projection='3d')\n",
    "ax.scatter3D(uT_test_x_sp[:,0], uT_test_x_sp[:,1], uT_test_y_sb, c=uT_test_y_sb, cmap='Greens')\n",
    "for udx, model in enumerate(uT_models):\n",
    "    uT_pred_y = model.predict(uT_test_x, return_std=False)\n",
    "    uT_pred_y_sb = uT_scalery[uT_yk].inverse_transform(uT_pred_y.reshape(-1, 1))\n",
    "    uT_testmse = metrics.mean_absolute_error(uT_test_y_sb, uT_pred_y_sb)\n",
    "    uT_testr2 = metrics.r2_score(uT_test_y_sb, uT_pred_y_sb)\n",
    "    print(\"Model \", udx)\n",
    "    print(\"Test MSE: \", uT_testmse)\n",
    "    print(\"Test R2:  \", uT_testr2)\n",
    "    ax.scatter3D(uT_test_x_sp[:,0], uT_test_x_sp[:,1], \\\n",
    "                 uT_pred_y_sb, c='r')\n",
    "plt.show()"
   ]
  },
  {
   "cell_type": "code",
   "execution_count": null,
   "metadata": {},
   "outputs": [],
   "source": [
    "nT_models = []\n",
    "nT_model = cm.build_model_GP_1 (nT_train_x, nT_train_y)\n",
    "nT_models.append(nT_model)\n",
    "for nu in [1.5, 2.0, 2.5, 3.0]:\n",
    "    nT_model = cm.build_model_GP_2 (nT_train_x, nT_train_y, nuval = nu)\n",
    "    nT_models.append(nT_model)\n",
    "    nT_model = cm.build_model_GP_3 (nT_train_x, nT_train_y, nuval = nu)\n",
    "    nT_models.append(nT_model)"
   ]
  },
  {
   "cell_type": "code",
   "execution_count": null,
   "metadata": {},
   "outputs": [],
   "source": [
    "nT_test_x_sp = nT_scalerx[nT_xk].inverse_transform(nT_test_x)\n",
    "nT_test_y_sb = nT_scalery[nT_yk].inverse_transform(nT_test_y)\n",
    "plt.rcParams[\"figure.figsize\"] = (18, 10)\n",
    "ax = plt.axes(projection='3d')\n",
    "ax.scatter3D(nT_test_x_sp[:,0], nT_test_x_sp[:,1], nT_test_y_sb, c=nT_test_y_sb, cmap='Greens')\n",
    "for ndx, model in enumerate(nT_models):\n",
    "    nT_pred_y = model.predict(nT_test_x, return_std=False)\n",
    "    nT_pred_y_sb = nT_scalery[nT_yk].inverse_transform(nT_pred_y.reshape(-1, 1))\n",
    "    nT_testmse = metrics.mean_absolute_error(nT_test_y_sb, nT_pred_y_sb)\n",
    "    nT_testr2 = metrics.r2_score(nT_test_y_sb, nT_pred_y_sb)\n",
    "    print(\"Model \", ndx)\n",
    "    print(\"Test MSE: \", nT_testmse)\n",
    "    print(\"Test R2:  \", nT_testr2)\n",
    "    ax.scatter3D(nT_test_x_sp[:,0], nT_test_x_sp[:,1], \\\n",
    "                 nT_pred_y_sb, c='r')\n",
    "plt.show()"
   ]
  },
  {
   "cell_type": "code",
   "execution_count": null,
   "metadata": {},
   "outputs": [],
   "source": []
  }
 ],
 "metadata": {
  "kernelspec": {
   "display_name": "myrdkit",
   "language": "python",
   "name": "python3"
  },
  "language_info": {
   "codemirror_mode": {
    "name": "ipython",
    "version": 3
   },
   "file_extension": ".py",
   "mimetype": "text/x-python",
   "name": "python",
   "nbconvert_exporter": "python",
   "pygments_lexer": "ipython3",
   "version": "3.9.12"
  }
 },
 "nbformat": 4,
 "nbformat_minor": 2
}
