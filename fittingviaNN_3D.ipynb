{
 "cells": [
  {
   "cell_type": "code",
   "execution_count": null,
   "metadata": {},
   "outputs": [],
   "source": [
    "import numpy as np\n",
    "import matplotlib.pyplot as plt\n",
    "import pandas as pd\n",
    "\n",
    "%matplotlib inline\n",
    "%load_ext autoreload\n",
    "%autoreload 2"
   ]
  },
  {
   "cell_type": "code",
   "execution_count": null,
   "metadata": {},
   "outputs": [],
   "source": [
    "import commonmodules as cm\n",
    "\n",
    "filename = \"N2H2_VVdata_3variables.xlsx\"\n",
    "df = pd.read_excel(filename)\n",
    "debug = False"
   ]
  },
  {
   "cell_type": "code",
   "execution_count": null,
   "metadata": {},
   "outputs": [],
   "source": [
    "from sklearn.preprocessing import MinMaxScaler\n",
    "\n",
    "x = df[['v', 'w', 'T(K)']].values\n",
    "y = df[['k(cm^3/s)']].values\n",
    "\n",
    "scalerx = MinMaxScaler()\n",
    "scalerx.fit(x)\n",
    "x_s = scalerx.transform(x)\n",
    "\n",
    "scalery = MinMaxScaler()\n",
    "scalery.fit(y)\n",
    "y_s = scalery.transform(y)\n",
    "\n",
    "if debug:\n",
    "    for i, ys in enumerate(y_s):\n",
    "        print(ys, y[i])\n",
    "    for i, xs in enumerate(x_s):\n",
    "        print(xs, x[i])"
   ]
  },
  {
   "cell_type": "code",
   "execution_count": null,
   "metadata": {},
   "outputs": [],
   "source": [
    "from tensorflow import keras\n",
    "import tensorflow as tf\n",
    "\n",
    "import tensorflow.keras.optimizers as tko\n",
    "import tensorflow.keras.activations as tka\n",
    "import tensorflow.keras.losses as tkl\n",
    "from tensorflow.keras.layers import Input, Dense\n",
    "from tensorflow.keras.models import Model\n",
    "\n",
    "from sklearn.model_selection import train_test_split\n",
    "\n",
    "def buildmodel(modelshape):\n",
    "    model = keras.Sequential()\n",
    "    model.add(keras.layers.Dense(units = 3, activation = 'linear', input_shape=[3]))\n",
    "\n",
    "    for n in modelshape:\n",
    "        model.add(keras.layers.Dense(units = n, activation = 'relu'))\n",
    "\n",
    "    model.add(keras.layers.Dense(units = 1, activation = 'linear'))\n",
    "    model.compile(loss='mse', optimizer=\"adam\", metrics='mse')\n",
    "\n",
    "    return model\n",
    "\n",
    "\n",
    "train_x, test_x, train_y, test_y = train_test_split(x_s, y_s, test_size=0.33, random_state=42)\n",
    "\n",
    "modelshape = [32, 32, 32, 32]\n",
    "epochs = 10\n",
    "batch_size = 50\n",
    "\n",
    "model = buildmodel(modelshape)\n",
    "history = model.fit(train_x, train_y, epochs=epochs,  batch_size=batch_size, \\\n",
    "    verbose=1)\n",
    "\n"
   ]
  },
  {
   "cell_type": "code",
   "execution_count": null,
   "metadata": {},
   "outputs": [],
   "source": [
    "from sklearn import metrics\n",
    "\n",
    "pred_y = model.predict(test_x)\n",
    "plt.scatter(test_y, pred_y)\n",
    "plt.show()\n",
    "print(\"Test MSE: %10.5f\"%(metrics.mean_absolute_error(test_y, pred_y)))\n",
    "print(\" Test R2: %10.5f\"%(metrics.r2_score(test_y, pred_y)))\n",
    "\n",
    "pred_y = model.predict(train_x)\n",
    "plt.scatter(train_y, pred_y)\n",
    "plt.show()\n",
    "print(\"Training MSE: %10.5f\"%(metrics.mean_absolute_error(train_y, pred_y)))\n",
    "print(\" Training R2: %10.5f\"%(metrics.r2_score(train_y, pred_y)))\n"
   ]
  }
 ],
 "metadata": {
  "kernelspec": {
   "display_name": "base",
   "language": "python",
   "name": "python3"
  },
  "language_info": {
   "codemirror_mode": {
    "name": "ipython",
    "version": 3
   },
   "file_extension": ".py",
   "mimetype": "text/x-python",
   "name": "python",
   "nbconvert_exporter": "python",
   "pygments_lexer": "ipython3",
   "version": "3.9.12"
  },
  "orig_nbformat": 4,
  "vscode": {
   "interpreter": {
    "hash": "dd7411e63421f098f1bf3ed11ee17c34ffcc3ddc87944e7f4685f5b8c2980583"
   }
  }
 },
 "nbformat": 4,
 "nbformat_minor": 2
}
