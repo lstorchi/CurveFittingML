{
 "cells": [
  {
   "cell_type": "code",
   "execution_count": null,
   "metadata": {},
   "outputs": [],
   "source": [
    "import numpy as np\n",
    "import matplotlib.pyplot as plt\n",
    "import pandas as pd\n",
    "import math\n",
    "\n",
    "import commonmodules as cm\n",
    "\n",
    "%matplotlib inline\n",
    "%load_ext autoreload\n",
    "%autoreload 2"
   ]
  },
  {
   "cell_type": "code",
   "execution_count": null,
   "metadata": {},
   "outputs": [],
   "source": [
    "filename = \"N2H2_2D.xlsx\"\n",
    "excf = pd.ExcelFile(filename)\n",
    "debug = False\n",
    "print(excf.sheet_names)\n",
    "\n",
    "df1 = pd.read_excel(excf, \"dv=1\")\n",
    "df2 = pd.read_excel(excf, \"dv=2\")\n",
    "df3 = pd.read_excel(excf, \"dv=3\")\n",
    "\n",
    "print(df1.columns)\n",
    "print(df2.columns)\n",
    "print(df3.columns)\n"
   ]
  },
  {
   "cell_type": "markdown",
   "metadata": {},
   "source": [
    "cE = Collision Energy\n",
    "dE = Delta E \n",
    "cS = Cross Section"
   ]
  },
  {
   "cell_type": "code",
   "execution_count": null,
   "metadata": {},
   "outputs": [],
   "source": [
    "from sklearn.preprocessing import MinMaxScaler\n",
    "\n",
    "x = {}\n",
    "x_s = {}\n",
    "y = {} \n",
    "y_s = {}\n",
    "scalerx = {}\n",
    "scalery = {}\n",
    "vmap_toreal = {}\n",
    "vset = {}\n",
    "\n",
    "x[\"1_v_cE\"] = df1[['v', 'cE']].values\n",
    "x[\"1_dE_cE\"] = df1[['dE', 'cE']].values\n",
    "y[\"1\"] = np.log10(df1[[\"cS\"]].values)\n",
    "\n",
    "x[\"2_v_cE\"] = df2[['v', 'cE']].values\n",
    "x[\"2_dE_cE\"] = df2[['dE', 'cE']].values\n",
    "y[\"2\"] = np.log10(df2[[\"cS\"]].values)\n",
    "\n",
    "x[\"3_v_cE\"] = df3[['v', 'cE']].values\n",
    "x[\"3_dE_cE\"] = df3[['dE', 'cE']].values\n",
    "y[\"3\"] = np.log10(df3[[\"cS\"]].values)\n",
    "\n",
    "xkey = [\"1_v_cE\", \"1_dE_cE\", \\\n",
    "        \"2_v_cE\", \"2_dE_cE\", \\\n",
    "        \"3_v_cE\", \"3_dE_cE\"]\n",
    "\n",
    "ykey = [\"1\", \"2\", \"3\"]\n",
    "\n",
    "for k in xkey:\n",
    "    scalerx[k] = MinMaxScaler()\n",
    "    scalerx[k].fit(x[k])\n",
    "    x_s[k] = scalerx[k].transform(x[k])\n",
    "\n",
    "    vmap = {}\n",
    "\n",
    "    for i, vn in enumerate(x_s[k][:,0]):\n",
    "        vmap[vn] = x[k][i,0]\n",
    "\n",
    "    vmap_toreal[k] = vmap\n",
    "    \n",
    "    vset[k] = set(x_s[k][:,0])\n",
    "\n",
    "    if debug:\n",
    "        for i, xs in enumerate(x_s[k]):\n",
    "            print(xs, x[k][i])\n",
    "\n",
    "for k in ykey:\n",
    "    scalery[k] = MinMaxScaler()\n",
    "    scalery[k].fit(y[k])\n",
    "    y_s[k] = scalery[k].transform(y[k])\n",
    "\n",
    "    if debug:\n",
    "        for i, ys in enumerate(y_s[k]):\n",
    "            print(ys, y[k][i])\n"
   ]
  },
  {
   "cell_type": "code",
   "execution_count": null,
   "metadata": {},
   "outputs": [],
   "source": [
    "from tensorflow import keras\n",
    "import tensorflow as tf\n",
    "\n",
    "import tensorflow.keras.optimizers as tko\n",
    "import tensorflow.keras.activations as tka\n",
    "import tensorflow.keras.losses as tkl\n",
    "from tensorflow.keras.layers import Input, Dense\n",
    "from tensorflow.keras.models import Model\n",
    "\n",
    "from sklearn.model_selection import train_test_split\n",
    "from sklearn import metrics"
   ]
  },
  {
   "cell_type": "code",
   "execution_count": null,
   "metadata": {},
   "outputs": [],
   "source": [
    "modelshape = [32, 32, 32, 32]\n",
    "epochs = 20\n",
    "batch_size = 100\n",
    "\n",
    "for xk in xkey:\n",
    "    yk = xk.split(\"_\")[0]\n",
    "    ofp = open(\"vremoved_NN\"+xk+\".csv\", \"w\")\n",
    "\n",
    "    thefirst = True\n",
    "\n",
    "    print (\" v Removed , Test MSE , Test R2 , Train MSE , Train R2\")\n",
    "    print (\" v Removed , Test MSE , Test R2 , Train MSE , Train R2\", file=ofp)\n",
    "    for v in vset[xk]:\n",
    "        train_x, test_x, train_y, test_y = cm.test_train_split (0, [v], x_s[xk], y_s[yk])\n",
    "\n",
    "        if thefirst:\n",
    "            model = cm.buildmodel(modelshape, inputshape=2)\n",
    "            #print(model.summary())\n",
    "            history = model.fit(train_x, train_y, epochs=epochs,  batch_size=batch_size, \\\n",
    "                verbose=0)\n",
    "            thefirst = False\n",
    "\n",
    "        model = cm.buildmodel(modelshape, inputshape=2)\n",
    "        history = model.fit(train_x, train_y, epochs=epochs,  batch_size=batch_size, \\\n",
    "            verbose=0)\n",
    "    \n",
    "   "
   ]
  }
 ],
 "metadata": {
  "kernelspec": {
   "display_name": "base",
   "language": "python",
   "name": "python3"
  },
  "language_info": {
   "codemirror_mode": {
    "name": "ipython",
    "version": 3
   },
   "file_extension": ".py",
   "mimetype": "text/x-python",
   "name": "python",
   "nbconvert_exporter": "python",
   "pygments_lexer": "ipython3",
   "version": "3.9.12"
  },
  "orig_nbformat": 4,
  "vscode": {
   "interpreter": {
    "hash": "dd7411e63421f098f1bf3ed11ee17c34ffcc3ddc87944e7f4685f5b8c2980583"
   }
  }
 },
 "nbformat": 4,
 "nbformat_minor": 2
}
