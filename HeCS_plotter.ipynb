{
 "cells": [
  {
   "cell_type": "code",
   "execution_count": 1,
   "id": "ebca1ad1",
   "metadata": {},
   "outputs": [],
   "source": [
    "import os\n",
    "import math\n",
    "\n",
    "import numpy as np\n",
    "import pandas as pd\n",
    "\n",
    "from matplotlib import pyplot as plt\n",
    "import sklearn.gaussian_process as gp\n",
    "from mpl_toolkits.mplot3d import Axes3D\n",
    "\n",
    "%matplotlib inline\n",
    "%load_ext autoreload\n",
    "%autoreload 2"
   ]
  },
  {
   "cell_type": "code",
   "execution_count": null,
   "id": "c987cb5f",
   "metadata": {},
   "outputs": [
    {
     "name": "stdout",
     "output_type": "stream",
     "text": [
      "Training v values:  [ 0.  1.  2.  4.  9. 14. 19. 24. 29. 34. 39. 44.]\n",
      "Testing v values:  [ 3.  5.  6.  7.  8. 10. 11. 12. 13. 15. 16. 17. 18. 20. 21. 22. 23. 25.\n",
      " 26. 27. 28. 30. 31. 32. 33. 35. 36. 37. 38. 40. 41. 42. 43.]\n"
     ]
    },
    {
     "ename": "ValueError",
     "evalue": "The truth value of an array with more than one element is ambiguous. Use a.any() or a.all()",
     "output_type": "error",
     "traceback": [
      "\u001b[0;31m---------------------------------------------------------------------------\u001b[0m",
      "\u001b[0;31mValueError\u001b[0m                                Traceback (most recent call last)",
      "Input \u001b[0;32mIn [2]\u001b[0m, in \u001b[0;36m<cell line: 22>\u001b[0;34m()\u001b[0m\n\u001b[1;32m     19\u001b[0m \u001b[38;5;28mprint\u001b[39m(\u001b[38;5;124m\"\u001b[39m\u001b[38;5;124mTraining v values: \u001b[39m\u001b[38;5;124m\"\u001b[39m, vib_values1)\n\u001b[1;32m     20\u001b[0m \u001b[38;5;28mprint\u001b[39m(\u001b[38;5;124m\"\u001b[39m\u001b[38;5;124mTesting v values: \u001b[39m\u001b[38;5;124m\"\u001b[39m, vib_values2)\n\u001b[0;32m---> 22\u001b[0m \u001b[38;5;28;01mif\u001b[39;00m temp_values1  \u001b[38;5;241m!=\u001b[39m temp_values2:\n\u001b[1;32m     23\u001b[0m     \u001b[38;5;28mprint\u001b[39m(\u001b[38;5;124m\"\u001b[39m\u001b[38;5;124mERROR Temperature values are different between training and testing datasets.\u001b[39m\u001b[38;5;124m\"\u001b[39m)    \n\u001b[1;32m     24\u001b[0m     \u001b[38;5;28mprint\u001b[39m(\u001b[38;5;124m\"\u001b[39m\u001b[38;5;124mTesting T values: \u001b[39m\u001b[38;5;124m\"\u001b[39m, temp_values2)\n",
      "\u001b[0;31mValueError\u001b[0m: The truth value of an array with more than one element is ambiguous. Use a.any() or a.all()"
     ]
    }
   ],
   "source": [
    "filename1 = \"train_predictions_model_1.txt\"\n",
    "filename2 = \"test_predictions_model_1.txt\"\n",
    "df1 = pd.read_csv(filename1)\n",
    "df2 = pd.read_csv(filename2)\n",
    "x1 = df1[['v', 'T']].values\n",
    "y1 = df1['RC'].values\n",
    "X1 = np.array(x1)\n",
    "Y1 = np.array(y1)\n",
    "x2 = df2[['v', 'T']].values\n",
    "y2 = df2['RC'].values\n",
    "X2 = np.array(x2)\n",
    "Y2 = np.array(y2)\n",
    "\n",
    "temp_values1 = np.unique(X1[:, 1])\n",
    "vib_values1 = np.unique(X1[:, 0])\n",
    "temp_values2 = np.unique(X2[:, 1])\n",
    "vib_values2 = np.unique(X2[:, 0])\n",
    "\n",
    "print(\"Training v values: \", vib_values1)\n",
    "print(\"Testing v values: \", vib_values2)\n",
    "\n",
    "if temp_values1.shape != temp_values2.shape:\n",
    "    for i in range(len(temp_values1)):\n",
    "        if temp_values1[i] != temp_values2[i]:\n",
    "            print(\"ERROR Temperature values are different between training and testing datasets.\")\n",
    "\n",
    "fig = plt.figure()\n",
    "ax = fig.add_subplot(projection='3d')\n",
    "xdim1 = len(temp_values1)\n",
    "ydim1 = len(vib_values1)\n",
    "xdim2 = len(temp_values2)\n",
    "ydim2 = len(vib_values2)\n",
    "for xidx in range(xdim1):\n",
    "    t = temp_values1[xidx]\n",
    "    for yidx in range(ydim1):\n",
    "        v =  vib_values1[yidx]\n",
    "        x = float(t)\n",
    "        y = float(v)\n",
    "        z = df1[(df1['v'] == v) & (df1['T'] == t)]['RC'].values[0]\n",
    "        ax.scatter(x, y, z, marker=\"o\", color=\"b\")\n",
    "\n",
    "for xidx in range(xdim2):\n",
    "    t = temp_values2[xidx]\n",
    "    for yidx in range(ydim2):\n",
    "        v =  vib_values2[yidx]\n",
    "        x = float(t)\n",
    "        y = float(v)\n",
    "        z = df2[(df2['v'] == v) & (df2['T'] == t)]['RC'].values[0]\n",
    "        ax.scatter(x, y, z, marker=\"o\", color=\"r\")  \n",
    "\n",
    "ax.set_xlabel('X Label')\n",
    "ax.set_ylabel('Y Label')\n",
    "ax.set_zlabel('Z Label')\n",
    "plt.gcf().set_size_inches(20, 15)\n",
    "\n",
    "plt.show()"
   ]
  }
 ],
 "metadata": {
  "kernelspec": {
   "display_name": "py10",
   "language": "python",
   "name": "python3"
  },
  "language_info": {
   "codemirror_mode": {
    "name": "ipython",
    "version": 3
   },
   "file_extension": ".py",
   "mimetype": "text/x-python",
   "name": "python",
   "nbconvert_exporter": "python",
   "pygments_lexer": "ipython3",
   "version": "3.10.14"
  }
 },
 "nbformat": 4,
 "nbformat_minor": 5
}
